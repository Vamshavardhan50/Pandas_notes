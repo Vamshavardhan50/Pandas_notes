{
 "cells": [
  {
   "cell_type": "code",
   "execution_count": null,
   "id": "29b92d38-22bb-4e53-82ca-ecb215fa966c",
   "metadata": {},
   "outputs": [],
   "source": [
    "import numpy as np \n",
    "import pandas as pd "
   ]
  },
  {
   "cell_type": "code",
   "execution_count": 7,
   "id": "7babdcb5-12be-4fde-8fe3-c1c57d3b8de0",
   "metadata": {},
   "outputs": [
    {
     "data": {
      "text/html": [
       "<div>\n",
       "<style scoped>\n",
       "    .dataframe tbody tr th:only-of-type {\n",
       "        vertical-align: middle;\n",
       "    }\n",
       "\n",
       "    .dataframe tbody tr th {\n",
       "        vertical-align: top;\n",
       "    }\n",
       "\n",
       "    .dataframe thead th {\n",
       "        text-align: right;\n",
       "    }\n",
       "</style>\n",
       "<table border=\"1\" class=\"dataframe\">\n",
       "  <thead>\n",
       "    <tr style=\"text-align: right;\">\n",
       "      <th></th>\n",
       "      <th>country</th>\n",
       "      <th>country_long</th>\n",
       "      <th>currency</th>\n",
       "      <th>capital_city</th>\n",
       "      <th>region</th>\n",
       "      <th>continent</th>\n",
       "      <th>demonym</th>\n",
       "      <th>latitude</th>\n",
       "      <th>longitude</th>\n",
       "      <th>agricultural_land</th>\n",
       "      <th>...</th>\n",
       "      <th>population</th>\n",
       "      <th>women_parliament_seats_pct</th>\n",
       "      <th>rural_population</th>\n",
       "      <th>urban_population</th>\n",
       "      <th>press</th>\n",
       "      <th>democracy_score</th>\n",
       "      <th>democracy_type</th>\n",
       "      <th>median_age</th>\n",
       "      <th>political_leader</th>\n",
       "      <th>title</th>\n",
       "    </tr>\n",
       "  </thead>\n",
       "  <tbody>\n",
       "    <tr>\n",
       "      <th>0</th>\n",
       "      <td>Afghanistan</td>\n",
       "      <td>Islamic State of Afghanistan</td>\n",
       "      <td>Afghan afghani</td>\n",
       "      <td>Kabul</td>\n",
       "      <td>Southern Asia</td>\n",
       "      <td>Asia</td>\n",
       "      <td>Afghan</td>\n",
       "      <td>33.0</td>\n",
       "      <td>65.0</td>\n",
       "      <td>383560.0</td>\n",
       "      <td>...</td>\n",
       "      <td>41128771</td>\n",
       "      <td>27.01610</td>\n",
       "      <td>30181937</td>\n",
       "      <td>10946834</td>\n",
       "      <td>2.14</td>\n",
       "      <td>2.97</td>\n",
       "      <td>Authoritarian</td>\n",
       "      <td>12.9</td>\n",
       "      <td>Ashraf Ghani</td>\n",
       "      <td>President</td>\n",
       "    </tr>\n",
       "    <tr>\n",
       "      <th>1</th>\n",
       "      <td>Albania</td>\n",
       "      <td>Republic of Albania</td>\n",
       "      <td>Albanian lek</td>\n",
       "      <td>Tirana</td>\n",
       "      <td>Southern Europe</td>\n",
       "      <td>Europe</td>\n",
       "      <td>Albanian</td>\n",
       "      <td>41.0</td>\n",
       "      <td>20.0</td>\n",
       "      <td>11655.5</td>\n",
       "      <td>...</td>\n",
       "      <td>2775634</td>\n",
       "      <td>35.71430</td>\n",
       "      <td>1004807</td>\n",
       "      <td>1770827</td>\n",
       "      <td>2.62</td>\n",
       "      <td>5.98</td>\n",
       "      <td>Hybrid regime</td>\n",
       "      <td>33.7</td>\n",
       "      <td>Edi Rama</td>\n",
       "      <td>Prime Minister</td>\n",
       "    </tr>\n",
       "    <tr>\n",
       "      <th>2</th>\n",
       "      <td>Algeria</td>\n",
       "      <td>People's Democratic Republic of Algeria</td>\n",
       "      <td>Algerian dinar</td>\n",
       "      <td>Algiers</td>\n",
       "      <td>Northern Africa</td>\n",
       "      <td>Africa</td>\n",
       "      <td>Algerian</td>\n",
       "      <td>28.0</td>\n",
       "      <td>3.0</td>\n",
       "      <td>413588.0</td>\n",
       "      <td>...</td>\n",
       "      <td>44903225</td>\n",
       "      <td>8.10811</td>\n",
       "      <td>11328186</td>\n",
       "      <td>33575039</td>\n",
       "      <td>1.71</td>\n",
       "      <td>3.50</td>\n",
       "      <td>Authoritarian</td>\n",
       "      <td>24.0</td>\n",
       "      <td>Abdelmadjid Tebboune</td>\n",
       "      <td>President</td>\n",
       "    </tr>\n",
       "    <tr>\n",
       "      <th>3</th>\n",
       "      <td>Andorra</td>\n",
       "      <td>Principality of Andorra</td>\n",
       "      <td>Euro</td>\n",
       "      <td>Andorra la Vella</td>\n",
       "      <td>Southern Europe</td>\n",
       "      <td>Europe</td>\n",
       "      <td>Andorran</td>\n",
       "      <td>42.5</td>\n",
       "      <td>1.5</td>\n",
       "      <td>187.2</td>\n",
       "      <td>...</td>\n",
       "      <td>79824</td>\n",
       "      <td>46.42860</td>\n",
       "      <td>9730</td>\n",
       "      <td>70094</td>\n",
       "      <td>3.17</td>\n",
       "      <td>0.00</td>\n",
       "      <td>Unknown</td>\n",
       "      <td>38.9</td>\n",
       "      <td>Xavier Espot Zamora</td>\n",
       "      <td>Head of Government</td>\n",
       "    </tr>\n",
       "    <tr>\n",
       "      <th>4</th>\n",
       "      <td>Angola</td>\n",
       "      <td>People's Republic of Angola</td>\n",
       "      <td>Angolan kwanza</td>\n",
       "      <td>Luanda</td>\n",
       "      <td>Middle Africa</td>\n",
       "      <td>Africa</td>\n",
       "      <td>Angolan</td>\n",
       "      <td>-12.5</td>\n",
       "      <td>18.5</td>\n",
       "      <td>569525.0</td>\n",
       "      <td>...</td>\n",
       "      <td>35588987</td>\n",
       "      <td>33.63640</td>\n",
       "      <td>11359649</td>\n",
       "      <td>24229338</td>\n",
       "      <td>2.24</td>\n",
       "      <td>3.62</td>\n",
       "      <td>Authoritarian</td>\n",
       "      <td>12.4</td>\n",
       "      <td>João Lourenço</td>\n",
       "      <td>President</td>\n",
       "    </tr>\n",
       "  </tbody>\n",
       "</table>\n",
       "<p>5 rows × 64 columns</p>\n",
       "</div>"
      ],
      "text/plain": [
       "       country                             country_long        currency  \\\n",
       "0  Afghanistan             Islamic State of Afghanistan  Afghan afghani   \n",
       "1      Albania                      Republic of Albania    Albanian lek   \n",
       "2      Algeria  People's Democratic Republic of Algeria  Algerian dinar   \n",
       "3      Andorra                  Principality of Andorra            Euro   \n",
       "4       Angola              People's Republic of Angola  Angolan kwanza   \n",
       "\n",
       "       capital_city           region continent   demonym  latitude  longitude  \\\n",
       "0             Kabul    Southern Asia      Asia    Afghan      33.0       65.0   \n",
       "1            Tirana  Southern Europe    Europe  Albanian      41.0       20.0   \n",
       "2           Algiers  Northern Africa    Africa  Algerian      28.0        3.0   \n",
       "3  Andorra la Vella  Southern Europe    Europe  Andorran      42.5        1.5   \n",
       "4            Luanda    Middle Africa    Africa   Angolan     -12.5       18.5   \n",
       "\n",
       "   agricultural_land  ...  population  women_parliament_seats_pct  \\\n",
       "0           383560.0  ...    41128771                    27.01610   \n",
       "1            11655.5  ...     2775634                    35.71430   \n",
       "2           413588.0  ...    44903225                     8.10811   \n",
       "3              187.2  ...       79824                    46.42860   \n",
       "4           569525.0  ...    35588987                    33.63640   \n",
       "\n",
       "   rural_population  urban_population  press  democracy_score  democracy_type  \\\n",
       "0          30181937          10946834   2.14             2.97   Authoritarian   \n",
       "1           1004807           1770827   2.62             5.98   Hybrid regime   \n",
       "2          11328186          33575039   1.71             3.50   Authoritarian   \n",
       "3              9730             70094   3.17             0.00         Unknown   \n",
       "4          11359649          24229338   2.24             3.62   Authoritarian   \n",
       "\n",
       "   median_age      political_leader               title  \n",
       "0        12.9          Ashraf Ghani           President  \n",
       "1        33.7              Edi Rama      Prime Minister  \n",
       "2        24.0  Abdelmadjid Tebboune           President  \n",
       "3        38.9   Xavier Espot Zamora  Head of Government  \n",
       "4        12.4         João Lourenço           President  \n",
       "\n",
       "[5 rows x 64 columns]"
      ]
     },
     "execution_count": 7,
     "metadata": {},
     "output_type": "execute_result"
    }
   ],
   "source": [
    "df = pd.read_csv(\"Countries.csv\")\n",
    "df.head()"
   ]
  },
  {
   "cell_type": "code",
   "execution_count": null,
   "id": "40f531c2-a83d-4206-a222-8235e7696bb7",
   "metadata": {},
   "outputs": [],
   "source": [
    "df.shape"
   ]
  },
  {
   "cell_type": "code",
   "execution_count": null,
   "id": "9cb73cd0-6855-4dbe-b50b-1d94142d8bf4",
   "metadata": {
    "scrolled": true
   },
   "outputs": [],
   "source": [
    "df.info()"
   ]
  },
  {
   "cell_type": "code",
   "execution_count": null,
   "id": "c020d383-f7e3-4c30-92d3-cea1d92a18c7",
   "metadata": {},
   "outputs": [],
   "source": [
    "df.describe()"
   ]
  },
  {
   "cell_type": "code",
   "execution_count": 10,
   "id": "cef874e2-ae96-477b-bf67-7ec304f5c2f9",
   "metadata": {},
   "outputs": [
    {
     "data": {
      "text/plain": [
       "75    India\n",
       "Name: country, dtype: object"
      ]
     },
     "execution_count": 10,
     "metadata": {},
     "output_type": "execute_result"
    }
   ],
   "source": [
    "#which country has the highest population\n",
    "df[df['population'] == df['population'].max()]['country']"
   ]
  },
  {
   "cell_type": "code",
   "execution_count": null,
   "id": "ab241b1c-af1d-4c91-b811-b9ddfd9362c7",
   "metadata": {},
   "outputs": [],
   "source": [
    "df.columns"
   ]
  },
  {
   "cell_type": "code",
   "execution_count": null,
   "id": "b1dab6ee-ad0e-4ef1-9c16-9d485187ebd2",
   "metadata": {},
   "outputs": [],
   "source": [
    "#what is the capital of the country with highest population\n",
    "df[df['population'] == df['population'].max()]['capital_city']"
   ]
  },
  {
   "cell_type": "code",
   "execution_count": null,
   "id": "1c7bbd7d-123b-4238-818e-e357fcbeb7ce",
   "metadata": {},
   "outputs": [],
   "source": [
    "#which country has the least population\n",
    "df[df['population'] == df['population'].min()]['country']"
   ]
  },
  {
   "cell_type": "code",
   "execution_count": null,
   "id": "77faeb3d-7007-44d8-a930-e24b0a8dca46",
   "metadata": {},
   "outputs": [],
   "source": [
    "#what is the capital of the country with least population\n",
    "df[df['population'] == df['population'].min()]['capital_city']"
   ]
  },
  {
   "cell_type": "code",
   "execution_count": null,
   "id": "5e8b3127-593f-465d-872e-e43f7f16a02c",
   "metadata": {
    "scrolled": true
   },
   "outputs": [],
   "source": [
    "df.head()"
   ]
  },
  {
   "cell_type": "code",
   "execution_count": 11,
   "id": "70bda07e-2482-4fa5-a044-f18dd4335299",
   "metadata": {},
   "outputs": [],
   "source": [
    "#give me top 5 countries with highest democratic score\n",
    "df.sort_values(by = 'democracy_score',ascending=False,inplace = True)"
   ]
  },
  {
   "cell_type": "code",
   "execution_count": 12,
   "id": "27d790f9-f327-4fb8-909d-ef532cb57edd",
   "metadata": {},
   "outputs": [
    {
     "data": {
      "text/plain": [
       "127         Norway\n",
       "74         Iceland\n",
       "164         Sweden\n",
       "122    New Zealand\n",
       "46         Denmark\n",
       "Name: country, dtype: object"
      ]
     },
     "execution_count": 12,
     "metadata": {},
     "output_type": "execute_result"
    }
   ],
   "source": [
    "df['country'].head()"
   ]
  },
  {
   "cell_type": "code",
   "execution_count": null,
   "id": "da6f6892-1d24-421e-9c45-240493d9d538",
   "metadata": {},
   "outputs": [],
   "source": [
    "#how many total regions are there\n",
    "df['region'].value_counts().count()"
   ]
  },
  {
   "cell_type": "code",
   "execution_count": null,
   "id": "f4310910-2c44-4aad-bd19-9e6357700803",
   "metadata": {},
   "outputs": [],
   "source": [
    "#how many countries lie in Eastern Europe region\n",
    "df[df['region'] == \"Eastern Europe\"]['country']"
   ]
  },
  {
   "cell_type": "code",
   "execution_count": null,
   "id": "ff209e74-fe61-4424-a9a7-98be725d2330",
   "metadata": {},
   "outputs": [],
   "source": [
    "#who is the political leader of the 2nd highest populated country\n",
    "df[df['population'] == df['population'].nlargest(2).iloc[1]]['political_leader']"
   ]
  },
  {
   "cell_type": "code",
   "execution_count": null,
   "id": "de22b145-8ebe-442a-bb03-8207650caaf5",
   "metadata": {},
   "outputs": [],
   "source": [
    "# how many countries are there whoes political leaders are unknown\n",
    "df[df['political_leader'].isna()]['country'].count()"
   ]
  },
  {
   "cell_type": "code",
   "execution_count": null,
   "id": "4a133e65-a716-4b3a-af73-dea96d8aab04",
   "metadata": {},
   "outputs": [],
   "source": [
    "#how many country have Republic in their full name\n",
    "count = 0\n",
    "def counting(txt):\n",
    "    global count \n",
    "    if 'republic' in txt.lower():\n",
    "        count+= 1\n",
    "    return txt\n",
    "df['country_long'] = df['country_long'].apply(counting)\n",
    "print(count)"
   ]
  },
  {
   "cell_type": "code",
   "execution_count": null,
   "id": "05901ff2-06e4-4b05-9d9b-a2b52ed913bb",
   "metadata": {},
   "outputs": [],
   "source": [
    "#which country in african region has highest population\n",
    "africa_df = df[df['continent'] == 'Africa']"
   ]
  },
  {
   "cell_type": "code",
   "execution_count": null,
   "id": "9dd936b5-7062-4c72-80c4-52ee270609c9",
   "metadata": {},
   "outputs": [],
   "source": [
    "africa_df[africa_df['population'] == africa_df['population'].max()]['country']"
   ]
  }
 ],
 "metadata": {
  "kernelspec": {
   "display_name": "Python 3",
   "language": "python",
   "name": "python3"
  },
  "language_info": {
   "codemirror_mode": {
    "name": "ipython",
    "version": 3
   },
   "file_extension": ".py",
   "mimetype": "text/x-python",
   "name": "python",
   "nbconvert_exporter": "python",
   "pygments_lexer": "ipython3",
   "version": "3.13.2"
  }
 },
 "nbformat": 4,
 "nbformat_minor": 5
}
