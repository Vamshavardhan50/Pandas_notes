{
 "cells": [
  {
   "cell_type": "markdown",
   "id": "e138bd28",
   "metadata": {},
   "source": [
    "# Pandas Series\n",
    "\n",
    "A series is a one - dimensional labeled array capable of holding any data type.The axis lablels are collectivelu called the index"
   ]
  },
  {
   "cell_type": "markdown",
   "id": "c5084fd3",
   "metadata": {},
   "source": [
    "# Creating Series\n",
    "\n",
    "There are multiple ways to create a pandas series"
   ]
  }
 ],
 "metadata": {
  "language_info": {
   "name": "python"
  }
 },
 "nbformat": 4,
 "nbformat_minor": 5
}
