{
 "cells": [
  {
   "cell_type": "code",
   "execution_count": null,
   "id": "d7a2dd14",
   "metadata": {},
   "outputs": [],
   "source": [
    "import pandas as pd\n",
    "import numpy as np"
   ]
  },
  {
   "cell_type": "markdown",
   "id": "d24ec7a0",
   "metadata": {},
   "source": [
    "# Creating a DataFrame"
   ]
  },
  {
   "cell_type": "code",
   "execution_count": null,
   "id": "d239acb5",
   "metadata": {},
   "outputs": [],
   "source": [
    "data={\n",
    "  'Name': ['Alice', 'Bob', 'Charlie', 'David'],\n",
    "  'Age': [25, 30, 35, 40],\n",
    "  'city': ['New York', 'Los Angeles', 'Chicago', 'Houston'],\n",
    "  'Salary': [70000, 80000, 120000, 90000]\n",
    "}\n",
    "df=pd.DataFrame(data)\n",
    "df"
   ]
  },
  {
   "cell_type": "code",
   "execution_count": null,
   "id": "7c71153c",
   "metadata": {},
   "outputs": [],
   "source": [
    "data_List=[\n",
    "  ['Alice', 25, 'New York', 70000],\n",
    "  ['Bob', 30, 'Los Angeles', 80000],\n",
    "  ['Charlie', 35, 'Chicago', 120000],\n",
    "  ['David', 40, 'Houston', 90000]\n",
    "]\n",
    "columns = ['Name', 'Age', 'city', 'Salary']\n",
    "df2 = pd.DataFrame(data_List,columns=columns)\n",
    "df2"
   ]
  },
  {
   "cell_type": "markdown",
   "id": "3753ef5c",
   "metadata": {},
   "source": [
    "# Selecting and indexing of columns"
   ]
  },
  {
   "cell_type": "code",
   "execution_count": null,
   "id": "afbf0f64",
   "metadata": {},
   "outputs": [],
   "source": [
    "df2['Name']"
   ]
  },
  {
   "cell_type": "code",
   "execution_count": null,
   "id": "b7c93322",
   "metadata": {},
   "outputs": [],
   "source": [
    "df2[['Name','city']]"
   ]
  },
  {
   "cell_type": "markdown",
   "id": "eb09ae41",
   "metadata": {},
   "source": [
    "# Creating a new column\n"
   ]
  },
  {
   "cell_type": "code",
   "execution_count": null,
   "id": "f63e7c9e",
   "metadata": {},
   "outputs": [],
   "source": [
    "df2[\"Designation\"] = ['Engineer', 'Manager', 'Director', 'Analyst']\n",
    "df2"
   ]
  },
  {
   "cell_type": "markdown",
   "id": "3de406d9",
   "metadata": {},
   "source": [
    "# Removing the column\n"
   ]
  },
  {
   "cell_type": "code",
   "execution_count": null,
   "id": "59cf2b9a",
   "metadata": {},
   "outputs": [],
   "source": [
    "df2.drop('Designation', axis=1, inplace=True)\n",
    "df2"
   ]
  },
  {
   "cell_type": "markdown",
   "id": "4db62328",
   "metadata": {},
   "source": [
    "# Selecting by rows\n"
   ]
  },
  {
   "cell_type": "code",
   "execution_count": null,
   "id": "629405bd",
   "metadata": {},
   "outputs": [],
   "source": [
    "df2"
   ]
  },
  {
   "cell_type": "code",
   "execution_count": null,
   "id": "05e15134",
   "metadata": {},
   "outputs": [],
   "source": [
    "df2.loc[0]"
   ]
  },
  {
   "cell_type": "code",
   "execution_count": null,
   "id": "6f737620",
   "metadata": {},
   "outputs": [],
   "source": [
    "df2.loc[[0,1]]"
   ]
  },
  {
   "cell_type": "code",
   "execution_count": null,
   "id": "fd6dd36e",
   "metadata": {},
   "outputs": [],
   "source": [
    "df2.iloc[3]"
   ]
  },
  {
   "cell_type": "markdown",
   "id": "08ea075d",
   "metadata": {},
   "source": [
    "#  Selecting Subsets of Rows and Columns\n"
   ]
  },
  {
   "cell_type": "code",
   "execution_count": null,
   "id": "1c0eb085",
   "metadata": {},
   "outputs": [],
   "source": [
    "df.loc[2:3,['Name','Age']] "
   ]
  },
  {
   "cell_type": "markdown",
   "id": "f0a3956c",
   "metadata": {},
   "source": [
    "# Conditional Selection\n"
   ]
  },
  {
   "cell_type": "code",
   "execution_count": null,
   "id": "d00243c8",
   "metadata": {},
   "outputs": [],
   "source": [
    "df2"
   ]
  },
  {
   "cell_type": "markdown",
   "id": "17aeb378",
   "metadata": {},
   "source": [
    "only want to see those people who age is above 30"
   ]
  },
  {
   "cell_type": "code",
   "execution_count": null,
   "id": "ab69a79d",
   "metadata": {},
   "outputs": [],
   "source": [
    "df2[df[\"Age\"]>30] "
   ]
  },
  {
   "cell_type": "markdown",
   "id": "450e5ca9",
   "metadata": {},
   "source": [
    "only want to see those people who age is above 30 and city should be chicago\n"
   ]
  },
  {
   "cell_type": "code",
   "execution_count": null,
   "id": "a82bea64",
   "metadata": {},
   "outputs": [],
   "source": [
    "df2[(df2[\"Age\"]>30) & (df2[\"city\"]=='Chicago')]"
   ]
  },
  {
   "cell_type": "code",
   "execution_count": null,
   "id": "fbbf2542",
   "metadata": {},
   "outputs": [],
   "source": []
  }
 ],
 "metadata": {
  "kernelspec": {
   "display_name": "Python 3",
   "language": "python",
   "name": "python3"
  },
  "language_info": {
   "codemirror_mode": {
    "name": "ipython",
    "version": 3
   },
   "file_extension": ".py",
   "mimetype": "text/x-python",
   "name": "python",
   "nbconvert_exporter": "python",
   "pygments_lexer": "ipython3",
   "version": "3.13.2"
  }
 },
 "nbformat": 4,
 "nbformat_minor": 5
}
