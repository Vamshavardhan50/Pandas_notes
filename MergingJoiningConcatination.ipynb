{
 "cells": [
  {
   "cell_type": "code",
   "execution_count": null,
   "id": "9c48baa8",
   "metadata": {},
   "outputs": [],
   "source": [
    "import numpy as np\n",
    "import pandas as pd"
   ]
  },
  {
   "cell_type": "markdown",
   "id": "2803a5ab",
   "metadata": {},
   "source": [
    "Merging two DataFrames"
   ]
  },
  {
   "cell_type": "code",
   "execution_count": null,
   "id": "79405b6f",
   "metadata": {},
   "outputs": [],
   "source": [
    "employees=pd.DataFrame({\n",
    "    'EmployeeID': [1, 2, 3, 4, 5],\n",
    "    'Name': ['Alice', 'Bob', 'Charlie', 'David', 'Eve'],\n",
    "    'Department': ['HR', 'Finance', 'IT', 'Marketing', 'Sales'],\n",
    "})\n",
    "\n",
    "\n",
    "salaries=pd.DataFrame({\n",
    "    'EmployeeID': [1, 2, 3, 6, 7],\n",
    "    'Salary': [60000, 70000, 80000, 90000, 100000],\n",
    "    'Bonus': [5000, 7000, 8000, 9000, 10000]\n",
    "})\n",
    "\n"
   ]
  },
  {
   "cell_type": "code",
   "execution_count": null,
   "id": "66350443",
   "metadata": {},
   "outputs": [],
   "source": [
    "employees"
   ]
  },
  {
   "cell_type": "code",
   "execution_count": null,
   "id": "c5c31f0a",
   "metadata": {},
   "outputs": [],
   "source": [
    "salaries"
   ]
  },
  {
   "cell_type": "code",
   "execution_count": null,
   "id": "261d6aa9",
   "metadata": {},
   "outputs": [],
   "source": [
    "pd.merge(employees, salaries ,on='EmployeeID', how='inner')"
   ]
  },
  {
   "cell_type": "code",
   "execution_count": null,
   "id": "ef46acef",
   "metadata": {},
   "outputs": [],
   "source": [
    "pd.merge(employees, salaries ,on='EmployeeID', how='left')"
   ]
  },
  {
   "cell_type": "code",
   "execution_count": null,
   "id": "765dfa16",
   "metadata": {},
   "outputs": [],
   "source": [
    "pd.merge(employees, salaries ,on='EmployeeID', how='outer')"
   ]
  },
  {
   "cell_type": "markdown",
   "id": "c25a444e",
   "metadata": {},
   "source": [
    "Concatination of 2 DataFrames\n"
   ]
  },
  {
   "cell_type": "code",
   "execution_count": null,
   "id": "d7784bb1",
   "metadata": {},
   "outputs": [],
   "source": [
    "df1=pd.DataFrame({\n",
    "  'A':['A0', 'A1', 'A2'],\n",
    "  'B':['B0', 'B1', 'B2'],\n",
    "  'C':['C0', 'C1', 'C2']\n",
    "})\n",
    "df2=pd.DataFrame({\n",
    "  'A':['A3', 'A4', 'A5'],\n",
    "  'B':['B3', 'B4', 'B5'],\n",
    "  'D':['D3', 'D4', 'D5']\n",
    "})"
   ]
  },
  {
   "cell_type": "code",
   "execution_count": null,
   "id": "c68f9577",
   "metadata": {},
   "outputs": [],
   "source": [
    "df1"
   ]
  },
  {
   "cell_type": "code",
   "execution_count": null,
   "id": "e8519539",
   "metadata": {},
   "outputs": [],
   "source": [
    "df2"
   ]
  },
  {
   "cell_type": "code",
   "execution_count": null,
   "id": "3588e8cb",
   "metadata": {},
   "outputs": [],
   "source": [
    "pd.concat([df1,df2], axis=0, ignore_index=True)"
   ]
  },
  {
   "cell_type": "markdown",
   "id": "f19a5b7b",
   "metadata": {},
   "source": [
    "**Joining 2 DataFrames**"
   ]
  },
  {
   "cell_type": "code",
   "execution_count": null,
   "id": "66db9a26",
   "metadata": {},
   "outputs": [],
   "source": [
    "df1=pd.DataFrame({\n",
    "  'name': ['Alice', 'Bob', 'Charlie'],\n",
    "}, index=[1, 2, 3])\n",
    "\n",
    "df2=pd.DataFrame({\n",
    "  'score': [25, 30, 35],\n",
    "}, index=[2, 3,4])"
   ]
  },
  {
   "cell_type": "code",
   "execution_count": null,
   "id": "fa21e42b",
   "metadata": {},
   "outputs": [],
   "source": [
    "df1"
   ]
  },
  {
   "cell_type": "code",
   "execution_count": null,
   "id": "81c0eb23",
   "metadata": {},
   "outputs": [],
   "source": [
    "df2"
   ]
  },
  {
   "cell_type": "code",
   "execution_count": null,
   "id": "e0d20653",
   "metadata": {},
   "outputs": [],
   "source": [
    "df1.join(df2, how='inner')"
   ]
  },
  {
   "cell_type": "code",
   "execution_count": null,
   "id": "6a9b3b09",
   "metadata": {},
   "outputs": [],
   "source": []
  }
 ],
 "metadata": {
  "kernelspec": {
   "display_name": "Python 3",
   "language": "python",
   "name": "python3"
  },
  "language_info": {
   "codemirror_mode": {
    "name": "ipython",
    "version": 3
   },
   "file_extension": ".py",
   "mimetype": "text/x-python",
   "name": "python",
   "nbconvert_exporter": "python",
   "pygments_lexer": "ipython3",
   "version": "3.13.2"
  }
 },
 "nbformat": 4,
 "nbformat_minor": 5
}
